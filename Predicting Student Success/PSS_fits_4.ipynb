{
  "nbformat": 4,
  "nbformat_minor": 0,
  "metadata": {
    "colab": {
      "name": "PSS fits 3.ipynb",
      "provenance": [],
      "collapsed_sections": []
    },
    "kernelspec": {
      "name": "python3",
      "display_name": "Python 3"
    }
  },
  "cells": [
    {
      "cell_type": "code",
      "metadata": {
        "colab": {
          "base_uri": "https://localhost:8080/"
        },
        "id": "nEOthsPg10uv",
        "outputId": "954774a5-6891-40f7-97ec-bbf3a9b07a6e"
      },
      "source": [
        "pip install catboost"
      ],
      "execution_count": null,
      "outputs": [
        {
          "output_type": "stream",
          "text": [
            "Requirement already satisfied: catboost in /usr/local/lib/python3.6/dist-packages (0.24.4)\n",
            "Requirement already satisfied: graphviz in /usr/local/lib/python3.6/dist-packages (from catboost) (0.10.1)\n",
            "Requirement already satisfied: scipy in /usr/local/lib/python3.6/dist-packages (from catboost) (1.4.1)\n",
            "Requirement already satisfied: six in /usr/local/lib/python3.6/dist-packages (from catboost) (1.15.0)\n",
            "Requirement already satisfied: matplotlib in /usr/local/lib/python3.6/dist-packages (from catboost) (3.2.2)\n",
            "Requirement already satisfied: numpy>=1.16.0 in /usr/local/lib/python3.6/dist-packages (from catboost) (1.19.5)\n",
            "Requirement already satisfied: plotly in /usr/local/lib/python3.6/dist-packages (from catboost) (4.4.1)\n",
            "Requirement already satisfied: pandas>=0.24.0 in /usr/local/lib/python3.6/dist-packages (from catboost) (1.1.5)\n",
            "Requirement already satisfied: kiwisolver>=1.0.1 in /usr/local/lib/python3.6/dist-packages (from matplotlib->catboost) (1.3.1)\n",
            "Requirement already satisfied: python-dateutil>=2.1 in /usr/local/lib/python3.6/dist-packages (from matplotlib->catboost) (2.8.1)\n",
            "Requirement already satisfied: cycler>=0.10 in /usr/local/lib/python3.6/dist-packages (from matplotlib->catboost) (0.10.0)\n",
            "Requirement already satisfied: pyparsing!=2.0.4,!=2.1.2,!=2.1.6,>=2.0.1 in /usr/local/lib/python3.6/dist-packages (from matplotlib->catboost) (2.4.7)\n",
            "Requirement already satisfied: retrying>=1.3.3 in /usr/local/lib/python3.6/dist-packages (from plotly->catboost) (1.3.3)\n",
            "Requirement already satisfied: pytz>=2017.2 in /usr/local/lib/python3.6/dist-packages (from pandas>=0.24.0->catboost) (2018.9)\n"
          ],
          "name": "stdout"
        }
      ]
    },
    {
      "cell_type": "code",
      "metadata": {
        "colab": {
          "base_uri": "https://localhost:8080/"
        },
        "id": "kFWsOtGCJyOG",
        "outputId": "6e7b2d27-1828-4090-cce0-4dff017d1eb2"
      },
      "source": [
        "\t\r\n",
        "! pip install lightgbm"
      ],
      "execution_count": null,
      "outputs": [
        {
          "output_type": "stream",
          "text": [
            "Requirement already satisfied: lightgbm in /usr/local/lib/python3.6/dist-packages (2.2.3)\n",
            "Requirement already satisfied: numpy in /usr/local/lib/python3.6/dist-packages (from lightgbm) (1.19.5)\n",
            "Requirement already satisfied: scikit-learn in /usr/local/lib/python3.6/dist-packages (from lightgbm) (0.22.2.post1)\n",
            "Requirement already satisfied: scipy in /usr/local/lib/python3.6/dist-packages (from lightgbm) (1.4.1)\n",
            "Requirement already satisfied: joblib>=0.11 in /usr/local/lib/python3.6/dist-packages (from scikit-learn->lightgbm) (1.0.0)\n"
          ],
          "name": "stdout"
        }
      ]
    },
    {
      "cell_type": "code",
      "metadata": {
        "id": "z2rp5J_ZyO2q"
      },
      "source": [
        "# Importing libraries\r\n",
        "from numpy import loadtxt\r\n",
        "from sklearn.ensemble import RandomForestClassifier\r\n",
        "from sklearn.model_selection import cross_val_score\r\n",
        "from sklearn.model_selection import RepeatedStratifiedKFold\r\n",
        "from sklearn.metrics import mean_squared_error\r\n",
        "from sklearn.metrics import accuracy_score\r\n",
        "from sklearn.metrics import classification_report, confusion_matrix, roc_curve, auc,roc_auc_score\r\n",
        "from sklearn.metrics import confusion_matrix\r\n",
        "from sklearn.metrics import f1_score\r\n",
        "from sklearn.model_selection import train_test_split\r\n",
        "from sklearn.metrics import precision_recall_curve\r\n",
        "from sklearn.metrics import average_precision_score\r\n",
        "from sklearn.calibration import calibration_curve\r\n",
        "from scipy.sparse import vstack\r\n",
        "from xgboost import plot_tree\r\n",
        "from xgboost import plot_importance\r\n",
        "import matplotlib.pyplot as plt\r\n",
        "import matplotlib.pyplot as pyplot\r\n",
        "import pandas as pd\r\n",
        "import numpy as np\r\n",
        "from tabulate import tabulate\r\n",
        "import pickle\r\n",
        "import seaborn as sns\r\n",
        "#import tensorflow as tf\r\n",
        "import keras\r\n",
        "from collections import Counter\r\n",
        "%matplotlib inline\r\n",
        "sns.set()"
      ],
      "execution_count": null,
      "outputs": []
    },
    {
      "cell_type": "code",
      "metadata": {
        "id": "EF9nSIQsyWrB"
      },
      "source": [
        "#import data\r\n",
        "data2 = pd.read_excel('joineddf2.xlsx')\r\n",
        "\r\n",
        "data2.index = np.arange(1,28786,1)\r\n",
        "\r\n",
        "data2 = data2.drop(columns=['Column1','id_assessment'])\r\n",
        "# this drops all duplicated columns\r\n",
        "data2 = data2.loc[:,~data2.columns.duplicated()]\r\n",
        "\r\n",
        "data2 = data2[data2.columns[~data2.columns.isin(['id_student'])]]\r\n",
        "# remove date\r\n",
        "\r\n",
        "\r\n"
      ],
      "execution_count": null,
      "outputs": []
    },
    {
      "cell_type": "code",
      "metadata": {
        "colab": {
          "base_uri": "https://localhost:8080/",
          "height": 360
        },
        "id": "RHS_ZgVT0bg0",
        "outputId": "2e964d39-640a-473f-9177-2dd5d08c26cc"
      },
      "source": [
        "#Reading the first few rows of your data\r\n",
        "data2.head()"
      ],
      "execution_count": null,
      "outputs": [
        {
          "output_type": "execute_result",
          "data": {
            "text/html": [
              "<div>\n",
              "<style scoped>\n",
              "    .dataframe tbody tr th:only-of-type {\n",
              "        vertical-align: middle;\n",
              "    }\n",
              "\n",
              "    .dataframe tbody tr th {\n",
              "        vertical-align: top;\n",
              "    }\n",
              "\n",
              "    .dataframe thead th {\n",
              "        text-align: right;\n",
              "    }\n",
              "</style>\n",
              "<table border=\"1\" class=\"dataframe\">\n",
              "  <thead>\n",
              "    <tr style=\"text-align: right;\">\n",
              "      <th></th>\n",
              "      <th>code_module_x</th>\n",
              "      <th>code_presentation_x</th>\n",
              "      <th>gender</th>\n",
              "      <th>region</th>\n",
              "      <th>highest_education</th>\n",
              "      <th>imd_band</th>\n",
              "      <th>age_band</th>\n",
              "      <th>num_of_prev_attempts</th>\n",
              "      <th>studied_credits</th>\n",
              "      <th>disability</th>\n",
              "      <th>final_result</th>\n",
              "      <th>date_submitted</th>\n",
              "      <th>is_banked</th>\n",
              "      <th>score</th>\n",
              "      <th>code_module_y</th>\n",
              "      <th>code_presentation_y</th>\n",
              "      <th>date_registration</th>\n",
              "      <th>date_unregistration</th>\n",
              "    </tr>\n",
              "  </thead>\n",
              "  <tbody>\n",
              "    <tr>\n",
              "      <th>1</th>\n",
              "      <td>AAA</td>\n",
              "      <td>2013J</td>\n",
              "      <td>M</td>\n",
              "      <td>East Anglian Region</td>\n",
              "      <td>HE Qualification</td>\n",
              "      <td>90-100%</td>\n",
              "      <td>55&lt;=</td>\n",
              "      <td>0</td>\n",
              "      <td>240</td>\n",
              "      <td>N</td>\n",
              "      <td>Pass</td>\n",
              "      <td>18.0</td>\n",
              "      <td>0.0</td>\n",
              "      <td>78.0</td>\n",
              "      <td>AAA</td>\n",
              "      <td>2013J</td>\n",
              "      <td>-159.0</td>\n",
              "      <td>NaN</td>\n",
              "    </tr>\n",
              "    <tr>\n",
              "      <th>2</th>\n",
              "      <td>AAA</td>\n",
              "      <td>2013J</td>\n",
              "      <td>F</td>\n",
              "      <td>Scotland</td>\n",
              "      <td>HE Qualification</td>\n",
              "      <td>20-30%</td>\n",
              "      <td>35-55</td>\n",
              "      <td>0</td>\n",
              "      <td>60</td>\n",
              "      <td>N</td>\n",
              "      <td>Pass</td>\n",
              "      <td>22.0</td>\n",
              "      <td>0.0</td>\n",
              "      <td>70.0</td>\n",
              "      <td>AAA</td>\n",
              "      <td>2013J</td>\n",
              "      <td>-53.0</td>\n",
              "      <td>NaN</td>\n",
              "    </tr>\n",
              "    <tr>\n",
              "      <th>3</th>\n",
              "      <td>AAA</td>\n",
              "      <td>2013J</td>\n",
              "      <td>F</td>\n",
              "      <td>North Western Region</td>\n",
              "      <td>A Level or Equivalent</td>\n",
              "      <td>30-40%</td>\n",
              "      <td>35-55</td>\n",
              "      <td>0</td>\n",
              "      <td>60</td>\n",
              "      <td>Y</td>\n",
              "      <td>Withdrawn</td>\n",
              "      <td>NaN</td>\n",
              "      <td>NaN</td>\n",
              "      <td>NaN</td>\n",
              "      <td>AAA</td>\n",
              "      <td>2013J</td>\n",
              "      <td>-92.0</td>\n",
              "      <td>12.0</td>\n",
              "    </tr>\n",
              "    <tr>\n",
              "      <th>4</th>\n",
              "      <td>AAA</td>\n",
              "      <td>2013J</td>\n",
              "      <td>F</td>\n",
              "      <td>South East Region</td>\n",
              "      <td>A Level or Equivalent</td>\n",
              "      <td>50-60%</td>\n",
              "      <td>35-55</td>\n",
              "      <td>0</td>\n",
              "      <td>60</td>\n",
              "      <td>N</td>\n",
              "      <td>Pass</td>\n",
              "      <td>17.0</td>\n",
              "      <td>0.0</td>\n",
              "      <td>72.0</td>\n",
              "      <td>AAA</td>\n",
              "      <td>2013J</td>\n",
              "      <td>-52.0</td>\n",
              "      <td>NaN</td>\n",
              "    </tr>\n",
              "    <tr>\n",
              "      <th>5</th>\n",
              "      <td>AAA</td>\n",
              "      <td>2013J</td>\n",
              "      <td>F</td>\n",
              "      <td>West Midlands Region</td>\n",
              "      <td>Lower Than A Level</td>\n",
              "      <td>50-60%</td>\n",
              "      <td>0-35</td>\n",
              "      <td>0</td>\n",
              "      <td>60</td>\n",
              "      <td>N</td>\n",
              "      <td>Pass</td>\n",
              "      <td>26.0</td>\n",
              "      <td>0.0</td>\n",
              "      <td>69.0</td>\n",
              "      <td>AAA</td>\n",
              "      <td>2013J</td>\n",
              "      <td>-176.0</td>\n",
              "      <td>NaN</td>\n",
              "    </tr>\n",
              "  </tbody>\n",
              "</table>\n",
              "</div>"
            ],
            "text/plain": [
              "  code_module_x code_presentation_x  ... date_registration date_unregistration\n",
              "1           AAA               2013J  ...            -159.0                 NaN\n",
              "2           AAA               2013J  ...             -53.0                 NaN\n",
              "3           AAA               2013J  ...             -92.0                12.0\n",
              "4           AAA               2013J  ...             -52.0                 NaN\n",
              "5           AAA               2013J  ...            -176.0                 NaN\n",
              "\n",
              "[5 rows x 18 columns]"
            ]
          },
          "metadata": {
            "tags": []
          },
          "execution_count": 263
        }
      ]
    },
    {
      "cell_type": "code",
      "metadata": {
        "colab": {
          "base_uri": "https://localhost:8080/"
        },
        "id": "Pg4qY1CpWNpY",
        "outputId": "6559ab45-bbc0-466b-d3e6-4a5bb15558ab"
      },
      "source": [
        "data2.isna().sum()"
      ],
      "execution_count": null,
      "outputs": [
        {
          "output_type": "execute_result",
          "data": {
            "text/plain": [
              "code_module_x               0\n",
              "code_presentation_x         0\n",
              "gender                      0\n",
              "region                      0\n",
              "highest_education           0\n",
              "imd_band                 4103\n",
              "age_band                    0\n",
              "num_of_prev_attempts        0\n",
              "studied_credits             0\n",
              "disability                  0\n",
              "final_result                0\n",
              "date_submitted           5416\n",
              "is_banked                5416\n",
              "score                    5455\n",
              "code_module_y               0\n",
              "code_presentation_y         0\n",
              "date_registration          38\n",
              "date_unregistration     19817\n",
              "dtype: int64"
            ]
          },
          "metadata": {
            "tags": []
          },
          "execution_count": 264
        }
      ]
    },
    {
      "cell_type": "code",
      "metadata": {
        "colab": {
          "base_uri": "https://localhost:8080/"
        },
        "id": "17EFH3CL8qpA",
        "outputId": "fdccda99-118a-4ee6-f654-9a62edd92335"
      },
      "source": [
        "data2['code_presentation_x']"
      ],
      "execution_count": null,
      "outputs": [
        {
          "output_type": "execute_result",
          "data": {
            "text/plain": [
              "1        2013J\n",
              "2        2013J\n",
              "3        2013J\n",
              "4        2013J\n",
              "5        2013J\n",
              "         ...  \n",
              "28781    2014J\n",
              "28782    2014J\n",
              "28783    2014J\n",
              "28784    2014J\n",
              "28785    2014J\n",
              "Name: code_presentation_x, Length: 28785, dtype: object"
            ]
          },
          "metadata": {
            "tags": []
          },
          "execution_count": 265
        }
      ]
    },
    {
      "cell_type": "code",
      "metadata": {
        "colab": {
          "base_uri": "https://localhost:8080/",
          "height": 35
        },
        "id": "L6hv9MBC7Ik3",
        "outputId": "c36e1f4d-18a4-4ad3-fda1-e84a607275e7"
      },
      "source": [
        "# lets do label encoding \r\n",
        "cat_columns=['code_module_x','code_presentation_x','code_presentation_x',\r\n",
        "                            'gender' ,'region','highest_education','imd_band','age_band',\r\n",
        "                            'num_of_prev_attempts','disability','final_result',\r\n",
        "                            'is_banked','code_module_y','code_presentation_y']\r\n",
        "for col in cat_columns:\r\n",
        "  data2[col] = data2[col].astype('category')\r\n",
        "\r\n",
        "data2['is_banked'].dtype.name\r\n",
        "\r\n"
      ],
      "execution_count": null,
      "outputs": [
        {
          "output_type": "execute_result",
          "data": {
            "application/vnd.google.colaboratory.intrinsic+json": {
              "type": "string"
            },
            "text/plain": [
              "'category'"
            ]
          },
          "metadata": {
            "tags": []
          },
          "execution_count": 266
        }
      ]
    },
    {
      "cell_type": "code",
      "metadata": {
        "id": "eD6TD62dTDoK"
      },
      "source": [
        "data3 = data2"
      ],
      "execution_count": null,
      "outputs": []
    },
    {
      "cell_type": "code",
      "metadata": {
        "id": "waP52nH49CSz"
      },
      "source": [
        "cat_columns=['code_module_x','code_presentation_x','code_presentation_x',\r\n",
        "                            'gender' ,'region','highest_education','imd_band','age_band',\r\n",
        "                            'num_of_prev_attempts','disability','final_result',\r\n",
        "                            'is_banked','code_module_y','code_presentation_y']\r\n",
        "\r\n",
        "# we now assign a value that is strictly categorical\r\n",
        "for col in cat_columns:\r\n",
        "  if data2[col].dtype.name == 'category':\r\n",
        "      data2[col] = data2[col].cat.codes\r\n",
        "#obj_df[\"body_style_cat\"] = obj_df[\"body_style\"].cat.codes\r\n"
      ],
      "execution_count": null,
      "outputs": []
    },
    {
      "cell_type": "code",
      "metadata": {
        "colab": {
          "base_uri": "https://localhost:8080/"
        },
        "id": "vsGV6hvDThYu",
        "outputId": "ce135db3-1b25-4463-b61c-46402ec96c1f"
      },
      "source": [
        "data3.dtypes"
      ],
      "execution_count": null,
      "outputs": [
        {
          "output_type": "execute_result",
          "data": {
            "text/plain": [
              "code_module_x              int8\n",
              "code_presentation_x        int8\n",
              "gender                     int8\n",
              "region                     int8\n",
              "highest_education          int8\n",
              "imd_band                   int8\n",
              "age_band                   int8\n",
              "num_of_prev_attempts       int8\n",
              "studied_credits           int64\n",
              "disability                 int8\n",
              "final_result               int8\n",
              "date_submitted          float64\n",
              "is_banked                  int8\n",
              "score                   float64\n",
              "code_module_y              int8\n",
              "code_presentation_y        int8\n",
              "date_registration       float64\n",
              "date_unregistration     float64\n",
              "dtype: object"
            ]
          },
          "metadata": {
            "tags": []
          },
          "execution_count": 269
        }
      ]
    },
    {
      "cell_type": "code",
      "metadata": {
        "colab": {
          "base_uri": "https://localhost:8080/",
          "height": 224
        },
        "id": "NXt22kKU9IHd",
        "outputId": "af5818c1-b4b9-4c88-b48c-17197604f2ae"
      },
      "source": [
        "data2.head()"
      ],
      "execution_count": null,
      "outputs": [
        {
          "output_type": "execute_result",
          "data": {
            "text/html": [
              "<div>\n",
              "<style scoped>\n",
              "    .dataframe tbody tr th:only-of-type {\n",
              "        vertical-align: middle;\n",
              "    }\n",
              "\n",
              "    .dataframe tbody tr th {\n",
              "        vertical-align: top;\n",
              "    }\n",
              "\n",
              "    .dataframe thead th {\n",
              "        text-align: right;\n",
              "    }\n",
              "</style>\n",
              "<table border=\"1\" class=\"dataframe\">\n",
              "  <thead>\n",
              "    <tr style=\"text-align: right;\">\n",
              "      <th></th>\n",
              "      <th>code_module_x</th>\n",
              "      <th>code_presentation_x</th>\n",
              "      <th>gender</th>\n",
              "      <th>region</th>\n",
              "      <th>highest_education</th>\n",
              "      <th>imd_band</th>\n",
              "      <th>age_band</th>\n",
              "      <th>num_of_prev_attempts</th>\n",
              "      <th>studied_credits</th>\n",
              "      <th>disability</th>\n",
              "      <th>final_result</th>\n",
              "      <th>date_submitted</th>\n",
              "      <th>is_banked</th>\n",
              "      <th>score</th>\n",
              "      <th>code_module_y</th>\n",
              "      <th>code_presentation_y</th>\n",
              "      <th>date_registration</th>\n",
              "      <th>date_unregistration</th>\n",
              "    </tr>\n",
              "  </thead>\n",
              "  <tbody>\n",
              "    <tr>\n",
              "      <th>1</th>\n",
              "      <td>0</td>\n",
              "      <td>1</td>\n",
              "      <td>1</td>\n",
              "      <td>0</td>\n",
              "      <td>1</td>\n",
              "      <td>8</td>\n",
              "      <td>2</td>\n",
              "      <td>0</td>\n",
              "      <td>240</td>\n",
              "      <td>0</td>\n",
              "      <td>2</td>\n",
              "      <td>18.0</td>\n",
              "      <td>0</td>\n",
              "      <td>78.0</td>\n",
              "      <td>0</td>\n",
              "      <td>1</td>\n",
              "      <td>-159.0</td>\n",
              "      <td>NaN</td>\n",
              "    </tr>\n",
              "    <tr>\n",
              "      <th>2</th>\n",
              "      <td>0</td>\n",
              "      <td>1</td>\n",
              "      <td>0</td>\n",
              "      <td>6</td>\n",
              "      <td>1</td>\n",
              "      <td>1</td>\n",
              "      <td>1</td>\n",
              "      <td>0</td>\n",
              "      <td>60</td>\n",
              "      <td>0</td>\n",
              "      <td>2</td>\n",
              "      <td>22.0</td>\n",
              "      <td>0</td>\n",
              "      <td>70.0</td>\n",
              "      <td>0</td>\n",
              "      <td>1</td>\n",
              "      <td>-53.0</td>\n",
              "      <td>NaN</td>\n",
              "    </tr>\n",
              "    <tr>\n",
              "      <th>3</th>\n",
              "      <td>0</td>\n",
              "      <td>1</td>\n",
              "      <td>0</td>\n",
              "      <td>5</td>\n",
              "      <td>0</td>\n",
              "      <td>2</td>\n",
              "      <td>1</td>\n",
              "      <td>0</td>\n",
              "      <td>60</td>\n",
              "      <td>1</td>\n",
              "      <td>3</td>\n",
              "      <td>NaN</td>\n",
              "      <td>-1</td>\n",
              "      <td>NaN</td>\n",
              "      <td>0</td>\n",
              "      <td>1</td>\n",
              "      <td>-92.0</td>\n",
              "      <td>12.0</td>\n",
              "    </tr>\n",
              "    <tr>\n",
              "      <th>4</th>\n",
              "      <td>0</td>\n",
              "      <td>1</td>\n",
              "      <td>0</td>\n",
              "      <td>7</td>\n",
              "      <td>0</td>\n",
              "      <td>4</td>\n",
              "      <td>1</td>\n",
              "      <td>0</td>\n",
              "      <td>60</td>\n",
              "      <td>0</td>\n",
              "      <td>2</td>\n",
              "      <td>17.0</td>\n",
              "      <td>0</td>\n",
              "      <td>72.0</td>\n",
              "      <td>0</td>\n",
              "      <td>1</td>\n",
              "      <td>-52.0</td>\n",
              "      <td>NaN</td>\n",
              "    </tr>\n",
              "    <tr>\n",
              "      <th>5</th>\n",
              "      <td>0</td>\n",
              "      <td>1</td>\n",
              "      <td>0</td>\n",
              "      <td>11</td>\n",
              "      <td>2</td>\n",
              "      <td>4</td>\n",
              "      <td>0</td>\n",
              "      <td>0</td>\n",
              "      <td>60</td>\n",
              "      <td>0</td>\n",
              "      <td>2</td>\n",
              "      <td>26.0</td>\n",
              "      <td>0</td>\n",
              "      <td>69.0</td>\n",
              "      <td>0</td>\n",
              "      <td>1</td>\n",
              "      <td>-176.0</td>\n",
              "      <td>NaN</td>\n",
              "    </tr>\n",
              "  </tbody>\n",
              "</table>\n",
              "</div>"
            ],
            "text/plain": [
              "   code_module_x  code_presentation_x  ...  date_registration  date_unregistration\n",
              "1              0                    1  ...             -159.0                  NaN\n",
              "2              0                    1  ...              -53.0                  NaN\n",
              "3              0                    1  ...              -92.0                 12.0\n",
              "4              0                    1  ...              -52.0                  NaN\n",
              "5              0                    1  ...             -176.0                  NaN\n",
              "\n",
              "[5 rows x 18 columns]"
            ]
          },
          "metadata": {
            "tags": []
          },
          "execution_count": 270
        }
      ]
    },
    {
      "cell_type": "code",
      "metadata": {
        "id": "60cTNPyi7P-w"
      },
      "source": [
        "X = data2[data2.columns[~data2.columns.isin(['final_result','date_registration',\r\n",
        "                                             'date_submitted','date_unregistration'])]]\r\n",
        "y =data2['final_result']"
      ],
      "execution_count": null,
      "outputs": []
    },
    {
      "cell_type": "code",
      "metadata": {
        "id": "UzbjDNZh1sVg"
      },
      "source": [
        "from sklearn.model_selection import train_test_split\r\n",
        "\r\n",
        "X_train, X_test, y_train, y_test = train_test_split(X, y, test_size=0.2, random_state=123)"
      ],
      "execution_count": null,
      "outputs": []
    },
    {
      "cell_type": "code",
      "metadata": {
        "colab": {
          "base_uri": "https://localhost:8080/"
        },
        "id": "FibhZzn_E2Ok",
        "outputId": "dd2be445-2bc7-4a91-89a7-9e5a5131a868"
      },
      "source": [
        "X_train.columns.duplicated()"
      ],
      "execution_count": null,
      "outputs": [
        {
          "output_type": "execute_result",
          "data": {
            "text/plain": [
              "array([False, False, False, False, False, False, False, False, False,\n",
              "       False, False, False, False, False])"
            ]
          },
          "metadata": {
            "tags": []
          },
          "execution_count": 273
        }
      ]
    },
    {
      "cell_type": "code",
      "metadata": {
        "id": "Qqs1jJoq3bC2"
      },
      "source": [
        "X_train = X_train.loc[:,~X_train.columns.duplicated()]"
      ],
      "execution_count": null,
      "outputs": []
    },
    {
      "cell_type": "code",
      "metadata": {
        "colab": {
          "base_uri": "https://localhost:8080/"
        },
        "id": "SfJ3J7Xj1YEI",
        "outputId": "bb010696-6b4d-4d1e-da5b-5e074626cb52"
      },
      "source": [
        "# cat boost decision trees\r\n",
        "import numpy as np\r\n",
        "\r\n",
        "from catboost import CatBoostClassifier, Pool\r\n",
        "\r\n",
        "cat_boost = CatBoostClassifier(iterations=3,\r\n",
        "                           depth=2,\r\n",
        "                           learning_rate=1,\r\n",
        "                           loss_function='MultiClass',\r\n",
        "                           verbose=True)\r\n",
        "\r\n",
        "# train the model\r\n",
        "cat_boost.fit(X_train, y_train)\r\n"
      ],
      "execution_count": null,
      "outputs": [
        {
          "output_type": "stream",
          "text": [
            "0:\tlearn: 1.1251280\ttotal: 14.2ms\tremaining: 28.5ms\n",
            "1:\tlearn: 1.1042061\ttotal: 26.3ms\tremaining: 13.1ms\n",
            "2:\tlearn: 1.0753500\ttotal: 38.5ms\tremaining: 0us\n"
          ],
          "name": "stdout"
        },
        {
          "output_type": "execute_result",
          "data": {
            "text/plain": [
              "<catboost.core.CatBoostClassifier at 0x7fd70fcdef28>"
            ]
          },
          "metadata": {
            "tags": []
          },
          "execution_count": 275
        }
      ]
    },
    {
      "cell_type": "code",
      "metadata": {
        "colab": {
          "base_uri": "https://localhost:8080/"
        },
        "id": "kCYMbMCcGTCK",
        "outputId": "39d3a5ce-c7bb-4410-b8de-baaa44954cd3"
      },
      "source": [
        "y_pred_cat = cat_boost.predict(X_test)\r\n",
        "\r\n",
        "#Calculating the accuracy of the trained model\r\n",
        "\r\n",
        "print(classification_report(y_test,y_pred_cat))\r\n",
        "print(accuracy_score(y_test, y_pred_cat))"
      ],
      "execution_count": null,
      "outputs": [
        {
          "output_type": "stream",
          "text": [
            "              precision    recall  f1-score   support\n",
            "\n",
            "           0       0.31      0.01      0.01       548\n",
            "           1       0.36      0.20      0.26      1241\n",
            "           2       0.50      0.84      0.62      2116\n",
            "           3       0.70      0.56      0.62      1852\n",
            "\n",
            "    accuracy                           0.53      5757\n",
            "   macro avg       0.47      0.40      0.38      5757\n",
            "weighted avg       0.52      0.53      0.49      5757\n",
            "\n",
            "0.5323953447976376\n"
          ],
          "name": "stdout"
        }
      ]
    },
    {
      "cell_type": "code",
      "metadata": {
        "colab": {
          "base_uri": "https://localhost:8080/"
        },
        "id": "lbKi3eISGvhX",
        "outputId": "cd2e04a1-9b4c-484b-9573-7cf9c414598e"
      },
      "source": [
        "#Ranking the features using the score\r\n",
        "headers = [\"name\", \"score\"]\r\n",
        "values = sorted(zip(X.columns, cat_boost.feature_importances_), key=lambda X: X[1] * -1)\r\n",
        "print(tabulate(values, headers, tablefmt=\"plain\"))"
      ],
      "execution_count": null,
      "outputs": [
        {
          "output_type": "stream",
          "text": [
            "name                    score\n",
            "score                 76.0541\n",
            "code_module_x         23.9459\n",
            "code_presentation_x    0\n",
            "gender                 0\n",
            "region                 0\n",
            "highest_education      0\n",
            "imd_band               0\n",
            "age_band               0\n",
            "num_of_prev_attempts   0\n",
            "studied_credits        0\n",
            "disability             0\n",
            "is_banked              0\n",
            "code_module_y          0\n",
            "code_presentation_y    0\n"
          ],
          "name": "stdout"
        }
      ]
    },
    {
      "cell_type": "code",
      "metadata": {
        "colab": {
          "base_uri": "https://localhost:8080/"
        },
        "id": "m2KlUW6hzjWA",
        "outputId": "9be28d83-0d5d-4c65-ec6e-6538e9d8c1cf"
      },
      "source": [
        "from xgboost import XGBClassifier\r\n",
        "xg_boost = XGBClassifier()\r\n",
        "xg_boost.fit(X_train, y_train)\r\n",
        "\r\n",
        "y_pred_xg = xg_boost.predict(X_test)\r\n",
        "\r\n",
        "\r\n",
        "#Calculating the accuracy of the trained model\r\n",
        "\r\n",
        "print(classification_report(y_test,y_pred_xg))\r\n",
        "print(accuracy_score(y_test, y_pred_xg))"
      ],
      "execution_count": null,
      "outputs": [
        {
          "output_type": "stream",
          "text": [
            "              precision    recall  f1-score   support\n",
            "\n",
            "           0       0.55      0.04      0.07       548\n",
            "           1       0.48      0.16      0.24      1241\n",
            "           2       0.51      0.92      0.66      2116\n",
            "           3       0.75      0.60      0.67      1852\n",
            "\n",
            "    accuracy                           0.57      5757\n",
            "   macro avg       0.57      0.43      0.41      5757\n",
            "weighted avg       0.58      0.57      0.51      5757\n",
            "\n",
            "0.5702622893868334\n"
          ],
          "name": "stdout"
        }
      ]
    },
    {
      "cell_type": "code",
      "metadata": {
        "colab": {
          "base_uri": "https://localhost:8080/"
        },
        "id": "dXnMMp79KGkQ",
        "outputId": "926b4471-4ca2-46d6-9ea1-8a0109b0057e"
      },
      "source": [
        "#Ranking the features using the score\r\n",
        "headers = [\"name\", \"score\"]\r\n",
        "values = sorted(zip(X.columns, xg_boost.feature_importances_), key=lambda X: X[1] * -1)\r\n",
        "print(tabulate(values, headers, tablefmt=\"plain\"))"
      ],
      "execution_count": null,
      "outputs": [
        {
          "output_type": "stream",
          "text": [
            "name                      score\n",
            "score                 0.415981\n",
            "is_banked             0.108279\n",
            "code_module_x         0.0911567\n",
            "studied_credits       0.0779072\n",
            "highest_education     0.0560495\n",
            "num_of_prev_attempts  0.05229\n",
            "disability            0.0505681\n",
            "code_presentation_x   0.0437117\n",
            "gender                0.0385485\n",
            "age_band              0.0228974\n",
            "imd_band              0.0223305\n",
            "region                0.0202802\n",
            "code_module_y         0\n",
            "code_presentation_y   0\n"
          ],
          "name": "stdout"
        }
      ]
    },
    {
      "cell_type": "code",
      "metadata": {
        "colab": {
          "base_uri": "https://localhost:8080/"
        },
        "id": "IkrXdOFiKPbC",
        "outputId": "d02d6d33-9c7f-411c-eaa5-d2643772382c"
      },
      "source": [
        "# light gradient boost\r\n",
        "import lightgbm as lgb\r\n",
        "\r\n",
        "lg_boost = lgb.LGBMClassifier()\r\n",
        "lg_boost.fit(X_train,y_train)\r\n"
      ],
      "execution_count": null,
      "outputs": [
        {
          "output_type": "execute_result",
          "data": {
            "text/plain": [
              "LGBMClassifier(boosting_type='gbdt', class_weight=None, colsample_bytree=1.0,\n",
              "               importance_type='split', learning_rate=0.1, max_depth=-1,\n",
              "               min_child_samples=20, min_child_weight=0.001, min_split_gain=0.0,\n",
              "               n_estimators=100, n_jobs=-1, num_leaves=31, objective=None,\n",
              "               random_state=None, reg_alpha=0.0, reg_lambda=0.0, silent=True,\n",
              "               subsample=1.0, subsample_for_bin=200000, subsample_freq=0)"
            ]
          },
          "metadata": {
            "tags": []
          },
          "execution_count": 280
        }
      ]
    },
    {
      "cell_type": "code",
      "metadata": {
        "colab": {
          "base_uri": "https://localhost:8080/"
        },
        "id": "Qv_hvTe_LPCQ",
        "outputId": "0c07ac0f-c821-4b91-adbc-f12ba84da731"
      },
      "source": [
        "y_pred_lg = lg_boost.predict(X_test)\r\n",
        "\r\n",
        "\r\n",
        "#Calculating the accuracy of the trained model\r\n",
        "\r\n",
        "print(classification_report(y_test,y_pred_lg))\r\n",
        "print(accuracy_score(y_test, y_pred_lg))"
      ],
      "execution_count": null,
      "outputs": [
        {
          "output_type": "stream",
          "text": [
            "              precision    recall  f1-score   support\n",
            "\n",
            "           0       0.50      0.11      0.18       548\n",
            "           1       0.48      0.19      0.27      1241\n",
            "           2       0.52      0.89      0.66      2116\n",
            "           3       0.73      0.62      0.67      1852\n",
            "\n",
            "    accuracy                           0.58      5757\n",
            "   macro avg       0.56      0.45      0.44      5757\n",
            "weighted avg       0.58      0.58      0.53      5757\n",
            "\n",
            "0.5752996352266806\n"
          ],
          "name": "stdout"
        }
      ]
    },
    {
      "cell_type": "code",
      "metadata": {
        "colab": {
          "base_uri": "https://localhost:8080/"
        },
        "id": "cVYoszhGLvvL",
        "outputId": "ba4b2d2d-83ad-48cb-9737-da6aa171710b"
      },
      "source": [
        "#Ranking the features using the score\r\n",
        "headers = [\"name\", \"score\"]\r\n",
        "values = sorted(zip(X.columns, lg_boost.feature_importances_), key=lambda X: X[1] * -1)\r\n",
        "print(tabulate(values, headers, tablefmt=\"plain\"))"
      ],
      "execution_count": null,
      "outputs": [
        {
          "output_type": "stream",
          "text": [
            "name                    score\n",
            "score                    3127\n",
            "region                   1725\n",
            "code_module_x            1533\n",
            "imd_band                 1396\n",
            "studied_credits          1077\n",
            "code_presentation_x       853\n",
            "highest_education         822\n",
            "age_band                  381\n",
            "gender                    367\n",
            "num_of_prev_attempts      327\n",
            "disability                224\n",
            "is_banked                 168\n",
            "code_module_y               0\n",
            "code_presentation_y         0\n"
          ],
          "name": "stdout"
        }
      ]
    },
    {
      "cell_type": "markdown",
      "metadata": {
        "id": "nseyzPncSuBc"
      },
      "source": [
        "For models that need no null values"
      ]
    },
    {
      "cell_type": "markdown",
      "metadata": {
        "id": "sWAAtL87XsFb"
      },
      "source": [
        "Imputed dataset"
      ]
    },
    {
      "cell_type": "code",
      "metadata": {
        "colab": {
          "base_uri": "https://localhost:8080/",
          "height": 224
        },
        "id": "jvYZUVGGTRkh",
        "outputId": "22b1a721-f82f-4c85-ec2e-f60ceb318577"
      },
      "source": [
        "data3.head()"
      ],
      "execution_count": null,
      "outputs": [
        {
          "output_type": "execute_result",
          "data": {
            "text/html": [
              "<div>\n",
              "<style scoped>\n",
              "    .dataframe tbody tr th:only-of-type {\n",
              "        vertical-align: middle;\n",
              "    }\n",
              "\n",
              "    .dataframe tbody tr th {\n",
              "        vertical-align: top;\n",
              "    }\n",
              "\n",
              "    .dataframe thead th {\n",
              "        text-align: right;\n",
              "    }\n",
              "</style>\n",
              "<table border=\"1\" class=\"dataframe\">\n",
              "  <thead>\n",
              "    <tr style=\"text-align: right;\">\n",
              "      <th></th>\n",
              "      <th>code_module_x</th>\n",
              "      <th>code_presentation_x</th>\n",
              "      <th>gender</th>\n",
              "      <th>region</th>\n",
              "      <th>highest_education</th>\n",
              "      <th>imd_band</th>\n",
              "      <th>age_band</th>\n",
              "      <th>num_of_prev_attempts</th>\n",
              "      <th>studied_credits</th>\n",
              "      <th>disability</th>\n",
              "      <th>final_result</th>\n",
              "      <th>date_submitted</th>\n",
              "      <th>is_banked</th>\n",
              "      <th>score</th>\n",
              "      <th>code_module_y</th>\n",
              "      <th>code_presentation_y</th>\n",
              "      <th>date_registration</th>\n",
              "      <th>date_unregistration</th>\n",
              "    </tr>\n",
              "  </thead>\n",
              "  <tbody>\n",
              "    <tr>\n",
              "      <th>1</th>\n",
              "      <td>0</td>\n",
              "      <td>1</td>\n",
              "      <td>1</td>\n",
              "      <td>0</td>\n",
              "      <td>1</td>\n",
              "      <td>8</td>\n",
              "      <td>2</td>\n",
              "      <td>0</td>\n",
              "      <td>240</td>\n",
              "      <td>0</td>\n",
              "      <td>2</td>\n",
              "      <td>18.0</td>\n",
              "      <td>0</td>\n",
              "      <td>78.0</td>\n",
              "      <td>0</td>\n",
              "      <td>1</td>\n",
              "      <td>-159.0</td>\n",
              "      <td>NaN</td>\n",
              "    </tr>\n",
              "    <tr>\n",
              "      <th>2</th>\n",
              "      <td>0</td>\n",
              "      <td>1</td>\n",
              "      <td>0</td>\n",
              "      <td>6</td>\n",
              "      <td>1</td>\n",
              "      <td>1</td>\n",
              "      <td>1</td>\n",
              "      <td>0</td>\n",
              "      <td>60</td>\n",
              "      <td>0</td>\n",
              "      <td>2</td>\n",
              "      <td>22.0</td>\n",
              "      <td>0</td>\n",
              "      <td>70.0</td>\n",
              "      <td>0</td>\n",
              "      <td>1</td>\n",
              "      <td>-53.0</td>\n",
              "      <td>NaN</td>\n",
              "    </tr>\n",
              "    <tr>\n",
              "      <th>3</th>\n",
              "      <td>0</td>\n",
              "      <td>1</td>\n",
              "      <td>0</td>\n",
              "      <td>5</td>\n",
              "      <td>0</td>\n",
              "      <td>2</td>\n",
              "      <td>1</td>\n",
              "      <td>0</td>\n",
              "      <td>60</td>\n",
              "      <td>1</td>\n",
              "      <td>3</td>\n",
              "      <td>NaN</td>\n",
              "      <td>-1</td>\n",
              "      <td>NaN</td>\n",
              "      <td>0</td>\n",
              "      <td>1</td>\n",
              "      <td>-92.0</td>\n",
              "      <td>12.0</td>\n",
              "    </tr>\n",
              "    <tr>\n",
              "      <th>4</th>\n",
              "      <td>0</td>\n",
              "      <td>1</td>\n",
              "      <td>0</td>\n",
              "      <td>7</td>\n",
              "      <td>0</td>\n",
              "      <td>4</td>\n",
              "      <td>1</td>\n",
              "      <td>0</td>\n",
              "      <td>60</td>\n",
              "      <td>0</td>\n",
              "      <td>2</td>\n",
              "      <td>17.0</td>\n",
              "      <td>0</td>\n",
              "      <td>72.0</td>\n",
              "      <td>0</td>\n",
              "      <td>1</td>\n",
              "      <td>-52.0</td>\n",
              "      <td>NaN</td>\n",
              "    </tr>\n",
              "    <tr>\n",
              "      <th>5</th>\n",
              "      <td>0</td>\n",
              "      <td>1</td>\n",
              "      <td>0</td>\n",
              "      <td>11</td>\n",
              "      <td>2</td>\n",
              "      <td>4</td>\n",
              "      <td>0</td>\n",
              "      <td>0</td>\n",
              "      <td>60</td>\n",
              "      <td>0</td>\n",
              "      <td>2</td>\n",
              "      <td>26.0</td>\n",
              "      <td>0</td>\n",
              "      <td>69.0</td>\n",
              "      <td>0</td>\n",
              "      <td>1</td>\n",
              "      <td>-176.0</td>\n",
              "      <td>NaN</td>\n",
              "    </tr>\n",
              "  </tbody>\n",
              "</table>\n",
              "</div>"
            ],
            "text/plain": [
              "   code_module_x  code_presentation_x  ...  date_registration  date_unregistration\n",
              "1              0                    1  ...             -159.0                  NaN\n",
              "2              0                    1  ...              -53.0                  NaN\n",
              "3              0                    1  ...              -92.0                 12.0\n",
              "4              0                    1  ...              -52.0                  NaN\n",
              "5              0                    1  ...             -176.0                  NaN\n",
              "\n",
              "[5 rows x 18 columns]"
            ]
          },
          "metadata": {
            "tags": []
          },
          "execution_count": 283
        }
      ]
    },
    {
      "cell_type": "code",
      "metadata": {
        "id": "fvWQbBrmRxNy"
      },
      "source": [
        "# lets impute \r\n",
        "\r\n",
        "from sklearn.base import TransformerMixin\r\n",
        "\r\n",
        "class DataFrameImputer(TransformerMixin):\r\n",
        "\r\n",
        "    def __init__(self):\r\n",
        "        \"\"\"Impute missing values.\r\n",
        "\r\n",
        "        Columns of dtype category are imputed with the most frequent value \r\n",
        "        in column.\r\n",
        "\r\n",
        "        Columns of other types are imputed with mean of column.\r\n",
        "\r\n",
        "        \"\"\"\r\n",
        "    def fit(self, X, y=None):\r\n",
        "\r\n",
        "        self.fill = pd.Series([X[c].value_counts().index[0]\r\n",
        "            if X[c].dtype.name == 'category' else X[c].mean() for c in X],\r\n",
        "            index=X.columns)\r\n",
        "\r\n",
        "        return self\r\n",
        "\r\n",
        "    def transform(self, X, y=None):\r\n",
        "        return X.fillna(self.fill)\r\n",
        "\r\n",
        "data3 = DataFrameImputer().fit_transform(data2)"
      ],
      "execution_count": null,
      "outputs": []
    },
    {
      "cell_type": "code",
      "metadata": {
        "colab": {
          "base_uri": "https://localhost:8080/",
          "height": 224
        },
        "id": "iBHgG57JV_ql",
        "outputId": "9f010ef3-934c-4977-c88a-ba5b63d73e90"
      },
      "source": [
        "data3.head()\r\n",
        "# this confirms that all the categorical columns are still being written as categorical"
      ],
      "execution_count": null,
      "outputs": [
        {
          "output_type": "execute_result",
          "data": {
            "text/html": [
              "<div>\n",
              "<style scoped>\n",
              "    .dataframe tbody tr th:only-of-type {\n",
              "        vertical-align: middle;\n",
              "    }\n",
              "\n",
              "    .dataframe tbody tr th {\n",
              "        vertical-align: top;\n",
              "    }\n",
              "\n",
              "    .dataframe thead th {\n",
              "        text-align: right;\n",
              "    }\n",
              "</style>\n",
              "<table border=\"1\" class=\"dataframe\">\n",
              "  <thead>\n",
              "    <tr style=\"text-align: right;\">\n",
              "      <th></th>\n",
              "      <th>code_module_x</th>\n",
              "      <th>code_presentation_x</th>\n",
              "      <th>gender</th>\n",
              "      <th>region</th>\n",
              "      <th>highest_education</th>\n",
              "      <th>imd_band</th>\n",
              "      <th>age_band</th>\n",
              "      <th>num_of_prev_attempts</th>\n",
              "      <th>studied_credits</th>\n",
              "      <th>disability</th>\n",
              "      <th>final_result</th>\n",
              "      <th>date_submitted</th>\n",
              "      <th>is_banked</th>\n",
              "      <th>score</th>\n",
              "      <th>code_module_y</th>\n",
              "      <th>code_presentation_y</th>\n",
              "      <th>date_registration</th>\n",
              "      <th>date_unregistration</th>\n",
              "    </tr>\n",
              "  </thead>\n",
              "  <tbody>\n",
              "    <tr>\n",
              "      <th>1</th>\n",
              "      <td>0</td>\n",
              "      <td>1</td>\n",
              "      <td>1</td>\n",
              "      <td>0</td>\n",
              "      <td>1</td>\n",
              "      <td>8</td>\n",
              "      <td>2</td>\n",
              "      <td>0</td>\n",
              "      <td>240</td>\n",
              "      <td>0</td>\n",
              "      <td>2</td>\n",
              "      <td>18.00000</td>\n",
              "      <td>0</td>\n",
              "      <td>78.000000</td>\n",
              "      <td>0</td>\n",
              "      <td>1</td>\n",
              "      <td>-159.0</td>\n",
              "      <td>49.101695</td>\n",
              "    </tr>\n",
              "    <tr>\n",
              "      <th>2</th>\n",
              "      <td>0</td>\n",
              "      <td>1</td>\n",
              "      <td>0</td>\n",
              "      <td>6</td>\n",
              "      <td>1</td>\n",
              "      <td>1</td>\n",
              "      <td>1</td>\n",
              "      <td>0</td>\n",
              "      <td>60</td>\n",
              "      <td>0</td>\n",
              "      <td>2</td>\n",
              "      <td>22.00000</td>\n",
              "      <td>0</td>\n",
              "      <td>70.000000</td>\n",
              "      <td>0</td>\n",
              "      <td>1</td>\n",
              "      <td>-53.0</td>\n",
              "      <td>49.101695</td>\n",
              "    </tr>\n",
              "    <tr>\n",
              "      <th>3</th>\n",
              "      <td>0</td>\n",
              "      <td>1</td>\n",
              "      <td>0</td>\n",
              "      <td>5</td>\n",
              "      <td>0</td>\n",
              "      <td>2</td>\n",
              "      <td>1</td>\n",
              "      <td>0</td>\n",
              "      <td>60</td>\n",
              "      <td>1</td>\n",
              "      <td>3</td>\n",
              "      <td>25.58308</td>\n",
              "      <td>-1</td>\n",
              "      <td>72.753622</td>\n",
              "      <td>0</td>\n",
              "      <td>1</td>\n",
              "      <td>-92.0</td>\n",
              "      <td>12.000000</td>\n",
              "    </tr>\n",
              "    <tr>\n",
              "      <th>4</th>\n",
              "      <td>0</td>\n",
              "      <td>1</td>\n",
              "      <td>0</td>\n",
              "      <td>7</td>\n",
              "      <td>0</td>\n",
              "      <td>4</td>\n",
              "      <td>1</td>\n",
              "      <td>0</td>\n",
              "      <td>60</td>\n",
              "      <td>0</td>\n",
              "      <td>2</td>\n",
              "      <td>17.00000</td>\n",
              "      <td>0</td>\n",
              "      <td>72.000000</td>\n",
              "      <td>0</td>\n",
              "      <td>1</td>\n",
              "      <td>-52.0</td>\n",
              "      <td>49.101695</td>\n",
              "    </tr>\n",
              "    <tr>\n",
              "      <th>5</th>\n",
              "      <td>0</td>\n",
              "      <td>1</td>\n",
              "      <td>0</td>\n",
              "      <td>11</td>\n",
              "      <td>2</td>\n",
              "      <td>4</td>\n",
              "      <td>0</td>\n",
              "      <td>0</td>\n",
              "      <td>60</td>\n",
              "      <td>0</td>\n",
              "      <td>2</td>\n",
              "      <td>26.00000</td>\n",
              "      <td>0</td>\n",
              "      <td>69.000000</td>\n",
              "      <td>0</td>\n",
              "      <td>1</td>\n",
              "      <td>-176.0</td>\n",
              "      <td>49.101695</td>\n",
              "    </tr>\n",
              "  </tbody>\n",
              "</table>\n",
              "</div>"
            ],
            "text/plain": [
              "   code_module_x  code_presentation_x  ...  date_registration  date_unregistration\n",
              "1              0                    1  ...             -159.0            49.101695\n",
              "2              0                    1  ...              -53.0            49.101695\n",
              "3              0                    1  ...              -92.0            12.000000\n",
              "4              0                    1  ...              -52.0            49.101695\n",
              "5              0                    1  ...             -176.0            49.101695\n",
              "\n",
              "[5 rows x 18 columns]"
            ]
          },
          "metadata": {
            "tags": []
          },
          "execution_count": 285
        }
      ]
    },
    {
      "cell_type": "code",
      "metadata": {
        "colab": {
          "base_uri": "https://localhost:8080/"
        },
        "id": "tSaT7JquUTkL",
        "outputId": "16d6fd61-6350-4cf6-fdbc-8a0812fe0d2d"
      },
      "source": [
        "# Check for null values\r\n",
        "data3.isna().sum()"
      ],
      "execution_count": null,
      "outputs": [
        {
          "output_type": "execute_result",
          "data": {
            "text/plain": [
              "code_module_x           0\n",
              "code_presentation_x     0\n",
              "gender                  0\n",
              "region                  0\n",
              "highest_education       0\n",
              "imd_band                0\n",
              "age_band                0\n",
              "num_of_prev_attempts    0\n",
              "studied_credits         0\n",
              "disability              0\n",
              "final_result            0\n",
              "date_submitted          0\n",
              "is_banked               0\n",
              "score                   0\n",
              "code_module_y           0\n",
              "code_presentation_y     0\n",
              "date_registration       0\n",
              "date_unregistration     0\n",
              "dtype: int64"
            ]
          },
          "metadata": {
            "tags": []
          },
          "execution_count": 286
        }
      ]
    },
    {
      "cell_type": "code",
      "metadata": {
        "colab": {
          "base_uri": "https://localhost:8080/"
        },
        "id": "YKOWmAJlU6Jy",
        "outputId": "826ebde6-3b41-4842-dbcc-7141a049a407"
      },
      "source": [
        "# Checks if there are any null values\r\n",
        "np.any(np.isnan(data3))"
      ],
      "execution_count": null,
      "outputs": [
        {
          "output_type": "execute_result",
          "data": {
            "text/plain": [
              "False"
            ]
          },
          "metadata": {
            "tags": []
          },
          "execution_count": 287
        }
      ]
    },
    {
      "cell_type": "code",
      "metadata": {
        "colab": {
          "base_uri": "https://localhost:8080/"
        },
        "id": "TrqxUgMpU8q4",
        "outputId": "0e258c37-1080-497f-94e8-cd220dbb51ae"
      },
      "source": [
        "# checks if there are infinite values\r\n",
        "np.all(np.isfinite(data3))\r\n",
        "# there are no infinite values in the imputed data,"
      ],
      "execution_count": null,
      "outputs": [
        {
          "output_type": "execute_result",
          "data": {
            "text/plain": [
              "True"
            ]
          },
          "metadata": {
            "tags": []
          },
          "execution_count": 288
        }
      ]
    },
    {
      "cell_type": "code",
      "metadata": {
        "id": "2-p0iuYoYUxY"
      },
      "source": [
        "# lets reset index in data to try and get rid of \r\n",
        "\r\n",
        "data3 = data3.reset_index()"
      ],
      "execution_count": null,
      "outputs": []
    },
    {
      "cell_type": "code",
      "metadata": {
        "id": "PyDWTESiVq4J"
      },
      "source": [
        "X_imp = data3[data3.columns[~data3.columns.isin(['final_result'])]]\r\n",
        "y_imp =data3['final_result']"
      ],
      "execution_count": null,
      "outputs": []
    },
    {
      "cell_type": "code",
      "metadata": {
        "id": "lSzIoG7GVaJS"
      },
      "source": [
        "from sklearn.model_selection import train_test_split\r\n",
        "\r\n",
        "X_train_imp, X_test_imp, y_train_imp, y_test_imp = train_test_split(X_imp, y_imp, test_size=0.2, random_state=123)"
      ],
      "execution_count": null,
      "outputs": []
    },
    {
      "cell_type": "code",
      "metadata": {
        "colab": {
          "base_uri": "https://localhost:8080/"
        },
        "id": "s7rI36XfQ0QQ",
        "outputId": "d1f923e0-2c9b-4d5a-b736-f0185b180c6f"
      },
      "source": [
        "# Random forest\r\n",
        "rf = RandomForestClassifier(n_estimators=10,random_state=42)                          \r\n",
        "# Fit on training data\r\n",
        "rf.fit(X_train_imp, y_train_imp)"
      ],
      "execution_count": null,
      "outputs": [
        {
          "output_type": "execute_result",
          "data": {
            "text/plain": [
              "RandomForestClassifier(bootstrap=True, ccp_alpha=0.0, class_weight=None,\n",
              "                       criterion='gini', max_depth=None, max_features='auto',\n",
              "                       max_leaf_nodes=None, max_samples=None,\n",
              "                       min_impurity_decrease=0.0, min_impurity_split=None,\n",
              "                       min_samples_leaf=1, min_samples_split=2,\n",
              "                       min_weight_fraction_leaf=0.0, n_estimators=10,\n",
              "                       n_jobs=None, oob_score=False, random_state=42, verbose=0,\n",
              "                       warm_start=False)"
            ]
          },
          "metadata": {
            "tags": []
          },
          "execution_count": 292
        }
      ]
    },
    {
      "cell_type": "code",
      "metadata": {
        "colab": {
          "base_uri": "https://localhost:8080/"
        },
        "id": "KgOgCWh2YrZs",
        "outputId": "a40986d1-d523-4c3d-9e4a-b977c40d5788"
      },
      "source": [
        "y_pred_rf = rf.predict(X_test_imp)\r\n",
        "\r\n",
        "#Calculating the accuracy of the trained model\r\n",
        "\r\n",
        "print(classification_report(y_test_imp,y_pred_rf))\r\n",
        "print(accuracy_score(y_test_imp, y_pred_rf))"
      ],
      "execution_count": null,
      "outputs": [
        {
          "output_type": "stream",
          "text": [
            "              precision    recall  f1-score   support\n",
            "\n",
            "           0       0.43      0.25      0.32       548\n",
            "           1       0.59      0.50      0.54      1241\n",
            "           2       0.62      0.74      0.67      2116\n",
            "           3       1.00      0.99      0.99      1852\n",
            "\n",
            "    accuracy                           0.72      5757\n",
            "   macro avg       0.66      0.62      0.63      5757\n",
            "weighted avg       0.71      0.72      0.71      5757\n",
            "\n",
            "0.7217300677436165\n"
          ],
          "name": "stdout"
        }
      ]
    },
    {
      "cell_type": "code",
      "metadata": {
        "colab": {
          "base_uri": "https://localhost:8080/"
        },
        "id": "L_d6V17JZX5_",
        "outputId": "ec7fa5c2-37f8-4651-f5d6-f9aedf75c60e"
      },
      "source": [
        "#Ranking the features using the score\r\n",
        "headers = [\"name\", \"score\"]\r\n",
        "values = sorted(zip(X.columns, rf.feature_importances_), key=lambda X: X[1] * -1)\r\n",
        "print(tabulate(values, headers, tablefmt=\"plain\"))"
      ],
      "execution_count": null,
      "outputs": [
        {
          "output_type": "stream",
          "text": [
            "name                       score\n",
            "code_presentation_y   0.102139\n",
            "code_module_x         0.0905429\n",
            "score                 0.0809154\n",
            "highest_education     0.0553632\n",
            "age_band              0.0518375\n",
            "code_module_y         0.0469552\n",
            "disability            0.026582\n",
            "imd_band              0.0217108\n",
            "num_of_prev_attempts  0.0132415\n",
            "region                0.0119149\n",
            "gender                0.0113075\n",
            "code_presentation_x   0.0105462\n",
            "studied_credits       0.00843968\n",
            "is_banked             0.00722082\n"
          ],
          "name": "stdout"
        }
      ]
    },
    {
      "cell_type": "code",
      "metadata": {
        "colab": {
          "base_uri": "https://localhost:8080/"
        },
        "id": "IgkTGquiL3RF",
        "outputId": "b72b02ab-fc98-4cba-9f30-54b1a234c713"
      },
      "source": [
        "# KNN\r\n",
        "\r\n",
        "from sklearn.neighbors import KNeighborsClassifier\r\n",
        "\r\n",
        "knn_clf=KNeighborsClassifier()\r\n",
        "\r\n",
        "knn_clf.fit(X_train_imp,y_train_imp)\r\n",
        "\r\n",
        "y_pred_knn = knn_clf.predict(X_test_imp) #These are the predicted output values\r\n",
        "\r\n",
        "#Calculating the accuracy of the trained model\r\n",
        "\r\n",
        "print(classification_report(y_test_imp,y_pred_knn))\r\n",
        "print(accuracy_score(y_test_imp, y_pred_knn))"
      ],
      "execution_count": null,
      "outputs": [
        {
          "output_type": "stream",
          "text": [
            "              precision    recall  f1-score   support\n",
            "\n",
            "           0       0.24      0.20      0.22       548\n",
            "           1       0.34      0.37      0.36      1241\n",
            "           2       0.49      0.63      0.55      2116\n",
            "           3       0.95      0.62      0.75      1852\n",
            "\n",
            "    accuracy                           0.53      5757\n",
            "   macro avg       0.51      0.46      0.47      5757\n",
            "weighted avg       0.58      0.53      0.54      5757\n",
            "\n",
            "0.5310057321521626\n"
          ],
          "name": "stdout"
        }
      ]
    },
    {
      "cell_type": "code",
      "metadata": {
        "colab": {
          "base_uri": "https://localhost:8080/"
        },
        "id": "4U8lqDWQccKX",
        "outputId": "a9a75ec1-89cc-441b-eeee-a3f8f8f855dd"
      },
      "source": [
        "# light gradient boost\r\n",
        "import lightgbm as lgb\r\n",
        "\r\n",
        "lg_boost = lgb.LGBMClassifier()\r\n",
        "lg_boost.fit(X_train_imp,y_train_imp)\r\n",
        "\r\n",
        "y_pred_lg = lg_boost.predict(X_test_imp)\r\n",
        "\r\n",
        "\r\n",
        "#Calculating the accuracy of the trained model\r\n",
        "\r\n",
        "print(classification_report(y_test_imp,y_pred_lg))\r\n",
        "print(accuracy_score(y_test_imp, y_pred_lg))"
      ],
      "execution_count": null,
      "outputs": [
        {
          "output_type": "stream",
          "text": [
            "              precision    recall  f1-score   support\n",
            "\n",
            "           0       0.55      0.12      0.19       548\n",
            "           1       0.74      0.44      0.55      1241\n",
            "           2       0.62      0.90      0.73      2116\n",
            "           3       1.00      0.99      1.00      1852\n",
            "\n",
            "    accuracy                           0.75      5757\n",
            "   macro avg       0.73      0.61      0.62      5757\n",
            "weighted avg       0.76      0.75      0.73      5757\n",
            "\n",
            "0.7545596664929651\n"
          ],
          "name": "stdout"
        }
      ]
    },
    {
      "cell_type": "code",
      "metadata": {
        "colab": {
          "base_uri": "https://localhost:8080/"
        },
        "id": "T6deerloZvyM",
        "outputId": "40dc15a6-47b9-436e-f20f-ec4cbe77a76f"
      },
      "source": [
        "from xgboost import XGBClassifier\r\n",
        "xg_boost = XGBClassifier()\r\n",
        "xg_boost.fit(X_train_imp, y_train_imp)\r\n",
        "\r\n",
        "y_pred_xg = xg_boost.predict(X_test_imp)\r\n",
        "\r\n",
        "\r\n",
        "#Calculating the accuracy of the trained model\r\n",
        "\r\n",
        "print(classification_report(y_test_imp,y_pred_xg))\r\n",
        "print(accuracy_score(y_test_imp, y_pred_xg))"
      ],
      "execution_count": null,
      "outputs": [
        {
          "output_type": "stream",
          "text": [
            "              precision    recall  f1-score   support\n",
            "\n",
            "           0       0.74      0.06      0.12       548\n",
            "           1       0.78      0.40      0.53      1241\n",
            "           2       0.61      0.93      0.74      2116\n",
            "           3       1.00      0.99      1.00      1852\n",
            "\n",
            "    accuracy                           0.75      5757\n",
            "   macro avg       0.78      0.60      0.60      5757\n",
            "weighted avg       0.78      0.75      0.72      5757\n",
            "\n",
            "0.7547333680736494\n"
          ],
          "name": "stdout"
        }
      ]
    },
    {
      "cell_type": "code",
      "metadata": {
        "colab": {
          "base_uri": "https://localhost:8080/"
        },
        "id": "nT1KzPPJfBJr",
        "outputId": "28dbcd38-2b0a-473c-b88e-4ae726dafb23"
      },
      "source": [
        "# Support Vector Machines, radial basis f\r\n",
        "\r\n",
        "from sklearn.svm import SVC\r\n",
        "svm = SVC(kernel = 'rbf', random_state = 0)\r\n",
        "svm.fit(X_train_imp, y_train_imp)\r\n",
        "\r\n",
        "y_pred_svm = svm.predict(X_test_imp)\r\n",
        "\r\n",
        "\r\n",
        "#Calculating the accuracy of the trained model\r\n",
        "\r\n",
        "print(classification_report(y_test_imp,y_pred_svm))\r\n",
        "print(accuracy_score(y_test_imp, y_pred_svm))"
      ],
      "execution_count": null,
      "outputs": [
        {
          "output_type": "stream",
          "text": [
            "              precision    recall  f1-score   support\n",
            "\n",
            "           0       0.00      0.00      0.00       548\n",
            "           1       0.00      0.00      0.00      1241\n",
            "           2       0.40      0.67      0.50      2116\n",
            "           3       0.40      0.48      0.44      1852\n",
            "\n",
            "    accuracy                           0.40      5757\n",
            "   macro avg       0.20      0.29      0.23      5757\n",
            "weighted avg       0.28      0.40      0.32      5757\n",
            "\n",
            "0.40055584505819003\n"
          ],
          "name": "stdout"
        },
        {
          "output_type": "stream",
          "text": [
            "/usr/local/lib/python3.6/dist-packages/sklearn/metrics/_classification.py:1272: UndefinedMetricWarning: Precision and F-score are ill-defined and being set to 0.0 in labels with no predicted samples. Use `zero_division` parameter to control this behavior.\n",
            "  _warn_prf(average, modifier, msg_start, len(result))\n"
          ],
          "name": "stderr"
        }
      ]
    },
    {
      "cell_type": "code",
      "metadata": {
        "colab": {
          "base_uri": "https://localhost:8080/"
        },
        "id": "iJOhE6y2gsRC",
        "outputId": "00fcf999-cee9-48d5-b944-b3b15ffd464f"
      },
      "source": [
        "# Decision Trees\r\n",
        "\r\n",
        "from sklearn.tree import DecisionTreeClassifier\r\n",
        "dec_tree = DecisionTreeClassifier(criterion = 'entropy', random_state = 0)\r\n",
        "dec_tree.fit(X_train_imp, y_train_imp)\r\n",
        "\r\n",
        "y_pred_dt = dec_tree.predict(X_test_imp)\r\n",
        "\r\n",
        "\r\n",
        "#Calculating the accuracy of the trained model\r\n",
        "\r\n",
        "print(classification_report(y_test_imp,y_pred_dt))\r\n",
        "print(accuracy_score(y_test_imp, y_pred_dt))\r\n"
      ],
      "execution_count": null,
      "outputs": [
        {
          "output_type": "stream",
          "text": [
            "              precision    recall  f1-score   support\n",
            "\n",
            "           0       0.29      0.27      0.28       548\n",
            "           1       0.51      0.51      0.51      1241\n",
            "           2       0.62      0.63      0.62      2116\n",
            "           3       0.99      0.99      0.99      1852\n",
            "\n",
            "    accuracy                           0.68      5757\n",
            "   macro avg       0.60      0.60      0.60      5757\n",
            "weighted avg       0.68      0.68      0.68      5757\n",
            "\n",
            "0.684905332638527\n"
          ],
          "name": "stdout"
        }
      ]
    },
    {
      "cell_type": "code",
      "metadata": {
        "colab": {
          "base_uri": "https://localhost:8080/"
        },
        "id": "pXOEMYwDkr-n",
        "outputId": "0ed590e3-1e1e-4b58-ab69-8a675c016e25"
      },
      "source": [
        "from catboost import CatBoostClassifier, Pool\r\n",
        "\r\n",
        "cat_boost = CatBoostClassifier(iterations=3,\r\n",
        "                           depth=2,\r\n",
        "                           learning_rate=1,\r\n",
        "                           loss_function='MultiClass',\r\n",
        "                           verbose=True)\r\n",
        "\r\n",
        "# train the model\r\n",
        "cat_boost.fit(X_train_imp, y_train_imp)\r\n",
        "\r\n",
        "y_pred_cat = cat_boost.predict(X_test_imp)\r\n",
        "\r\n",
        "#Calculating the accuracy of the trained model\r\n",
        "\r\n",
        "print(classification_report(y_test_imp,y_pred_cat))\r\n",
        "print(accuracy_score(y_test_imp, y_pred_cat))\r\n",
        "\r\n"
      ],
      "execution_count": null,
      "outputs": [
        {
          "output_type": "stream",
          "text": [
            "0:\tlearn: 0.7545885\ttotal: 14.5ms\tremaining: 29.1ms\n",
            "1:\tlearn: 0.6891807\ttotal: 28.3ms\tremaining: 14.1ms\n",
            "2:\tlearn: 0.6594307\ttotal: 41.7ms\tremaining: 0us\n",
            "              precision    recall  f1-score   support\n",
            "\n",
            "           0       0.00      0.00      0.00       548\n",
            "           1       0.95      0.18      0.31      1241\n",
            "           2       0.57      1.00      0.73      2116\n",
            "           3       1.00      0.98      0.99      1852\n",
            "\n",
            "    accuracy                           0.72      5757\n",
            "   macro avg       0.63      0.54      0.51      5757\n",
            "weighted avg       0.74      0.72      0.65      5757\n",
            "\n",
            "0.7219037693243009\n"
          ],
          "name": "stdout"
        },
        {
          "output_type": "stream",
          "text": [
            "/usr/local/lib/python3.6/dist-packages/sklearn/metrics/_classification.py:1272: UndefinedMetricWarning: Precision and F-score are ill-defined and being set to 0.0 in labels with no predicted samples. Use `zero_division` parameter to control this behavior.\n",
            "  _warn_prf(average, modifier, msg_start, len(result))\n"
          ],
          "name": "stderr"
        }
      ]
    },
    {
      "cell_type": "code",
      "metadata": {
        "colab": {
          "base_uri": "https://localhost:8080/"
        },
        "id": "_1DjJIgPinwr",
        "outputId": "24053099-b14d-48cc-d7a9-b788ce8ae521"
      },
      "source": [
        "# naive bayes\r\n",
        "from sklearn.naive_bayes import GaussianNB\r\n",
        "naive = GaussianNB()\r\n",
        "naive.fit(X_train_imp, y_train_imp)\r\n",
        "\r\n",
        "y_pred_naive = naive.predict(X_test_imp)\r\n",
        "\r\n",
        "\r\n",
        "#Calculating the accuracy of the trained model\r\n",
        "\r\n",
        "print(classification_report(y_test_imp,y_pred_naive))\r\n",
        "print(accuracy_score(y_test_imp, y_pred_naive))\r\n"
      ],
      "execution_count": null,
      "outputs": [
        {
          "output_type": "stream",
          "text": [
            "              precision    recall  f1-score   support\n",
            "\n",
            "           0       0.24      0.02      0.04       548\n",
            "           1       0.70      0.22      0.33      1241\n",
            "           2       0.58      0.97      0.73      2116\n",
            "           3       0.99      0.95      0.97      1852\n",
            "\n",
            "    accuracy                           0.71      5757\n",
            "   macro avg       0.63      0.54      0.52      5757\n",
            "weighted avg       0.71      0.71      0.65      5757\n",
            "\n",
            "0.712002779225291\n"
          ],
          "name": "stdout"
        }
      ]
    },
    {
      "cell_type": "code",
      "metadata": {
        "id": "Kmp8XTIMvXxx"
      },
      "source": [
        "# neural net\r\n",
        "\r\n",
        "import numpy as np\r\n",
        "import pandas as pd\r\n",
        "import tensorflow as tf\r\n",
        "#innitialise model\r\n",
        "ann = tf.keras.models.Sequential()\r\n",
        "# input and first layer\r\n",
        "ann.add(tf.keras.layers.Dense(units=10, activation='relu'))\r\n",
        "#2nd layer\r\n",
        "ann.add(tf.keras.layers.Dense(units=10, activation='relu'))\r\n",
        "# output layer\r\n",
        "ann.add(tf.keras.layers.Dense(units=4, activation='sigmoid'))"
      ],
      "execution_count": null,
      "outputs": []
    },
    {
      "cell_type": "code",
      "metadata": {
        "id": "Fcz3lknZwW3e"
      },
      "source": [
        "# training the model\r\n",
        "# since we dont have one hot encoding and the target variable is multi-class labelled\r\n",
        "ann.compile(optimizer = 'adam', loss = 'sparse_categorical_crossentropy', metrics = ['accuracy'])"
      ],
      "execution_count": null,
      "outputs": []
    },
    {
      "cell_type": "code",
      "metadata": {
        "colab": {
          "base_uri": "https://localhost:8080/"
        },
        "id": "Tv-6QcpkwdZv",
        "outputId": "59c574c2-d32f-4737-d0ad-3abdb5939c67"
      },
      "source": [
        "ann.fit(X_train_imp, y_train_imp, batch_size = 32, epochs = 100)\r\n"
      ],
      "execution_count": null,
      "outputs": [
        {
          "output_type": "stream",
          "text": [
            "Epoch 1/100\n",
            "720/720 [==============================] - 1s 1ms/step - loss: 196.3511 - accuracy: 0.2517\n",
            "Epoch 2/100\n",
            "720/720 [==============================] - 1s 1ms/step - loss: 4.5734 - accuracy: 0.3124\n",
            "Epoch 3/100\n",
            "720/720 [==============================] - 1s 1ms/step - loss: 3.8607 - accuracy: 0.3337\n",
            "Epoch 4/100\n",
            "720/720 [==============================] - 1s 1ms/step - loss: 4.1896 - accuracy: 0.3518\n",
            "Epoch 5/100\n",
            "720/720 [==============================] - 1s 1ms/step - loss: 3.5240 - accuracy: 0.3819\n",
            "Epoch 6/100\n",
            "720/720 [==============================] - 1s 1ms/step - loss: 3.6007 - accuracy: 0.3882\n",
            "Epoch 7/100\n",
            "720/720 [==============================] - 1s 1ms/step - loss: 2.3422 - accuracy: 0.4528\n",
            "Epoch 8/100\n",
            "720/720 [==============================] - 1s 1ms/step - loss: 2.6482 - accuracy: 0.4568\n",
            "Epoch 9/100\n",
            "720/720 [==============================] - 1s 1ms/step - loss: 3.4832 - accuracy: 0.4629\n",
            "Epoch 10/100\n",
            "720/720 [==============================] - 1s 1ms/step - loss: 2.3329 - accuracy: 0.5057\n",
            "Epoch 11/100\n",
            "720/720 [==============================] - 1s 1ms/step - loss: 2.1484 - accuracy: 0.5176\n",
            "Epoch 12/100\n",
            "720/720 [==============================] - 1s 1ms/step - loss: 2.5390 - accuracy: 0.5077\n",
            "Epoch 13/100\n",
            "720/720 [==============================] - 1s 1ms/step - loss: 2.8802 - accuracy: 0.4945\n",
            "Epoch 14/100\n",
            "720/720 [==============================] - 1s 1ms/step - loss: 2.1011 - accuracy: 0.5306\n",
            "Epoch 15/100\n",
            "720/720 [==============================] - 1s 1ms/step - loss: 2.2818 - accuracy: 0.5331\n",
            "Epoch 16/100\n",
            "720/720 [==============================] - 1s 1ms/step - loss: 2.1587 - accuracy: 0.5462\n",
            "Epoch 17/100\n",
            "720/720 [==============================] - 1s 1ms/step - loss: 2.1946 - accuracy: 0.5468\n",
            "Epoch 18/100\n",
            "720/720 [==============================] - 1s 1ms/step - loss: 2.3604 - accuracy: 0.5446\n",
            "Epoch 19/100\n",
            "720/720 [==============================] - 1s 1ms/step - loss: 2.4612 - accuracy: 0.5455\n",
            "Epoch 20/100\n",
            "720/720 [==============================] - 1s 1ms/step - loss: 2.6787 - accuracy: 0.5315\n",
            "Epoch 21/100\n",
            "720/720 [==============================] - 1s 1ms/step - loss: 2.5054 - accuracy: 0.5395\n",
            "Epoch 22/100\n",
            "720/720 [==============================] - 1s 1ms/step - loss: 1.7620 - accuracy: 0.5754\n",
            "Epoch 23/100\n",
            "720/720 [==============================] - 1s 1ms/step - loss: 2.3600 - accuracy: 0.5509\n",
            "Epoch 24/100\n",
            "720/720 [==============================] - 1s 1ms/step - loss: 2.4571 - accuracy: 0.5647\n",
            "Epoch 25/100\n",
            "720/720 [==============================] - 1s 1ms/step - loss: 2.9028 - accuracy: 0.5449\n",
            "Epoch 26/100\n",
            "720/720 [==============================] - 1s 1ms/step - loss: 2.2695 - accuracy: 0.5534\n",
            "Epoch 27/100\n",
            "720/720 [==============================] - 1s 1ms/step - loss: 2.6510 - accuracy: 0.5462\n",
            "Epoch 28/100\n",
            "720/720 [==============================] - 1s 1ms/step - loss: 2.0880 - accuracy: 0.5617\n",
            "Epoch 29/100\n",
            "720/720 [==============================] - 1s 1ms/step - loss: 2.3242 - accuracy: 0.5599\n",
            "Epoch 30/100\n",
            "720/720 [==============================] - 1s 1ms/step - loss: 2.2483 - accuracy: 0.5517\n",
            "Epoch 31/100\n",
            "720/720 [==============================] - 1s 1ms/step - loss: 1.9723 - accuracy: 0.5613\n",
            "Epoch 32/100\n",
            "720/720 [==============================] - 1s 1ms/step - loss: 1.8308 - accuracy: 0.5751\n",
            "Epoch 33/100\n",
            "720/720 [==============================] - 1s 1ms/step - loss: 2.0655 - accuracy: 0.5679\n",
            "Epoch 34/100\n",
            "720/720 [==============================] - 1s 1ms/step - loss: 1.8966 - accuracy: 0.5850\n",
            "Epoch 35/100\n",
            "720/720 [==============================] - 1s 1ms/step - loss: 1.7018 - accuracy: 0.5909\n",
            "Epoch 36/100\n",
            "720/720 [==============================] - 1s 1ms/step - loss: 1.7403 - accuracy: 0.5812\n",
            "Epoch 37/100\n",
            "720/720 [==============================] - 1s 1ms/step - loss: 1.7704 - accuracy: 0.5810\n",
            "Epoch 38/100\n",
            "720/720 [==============================] - 1s 1ms/step - loss: 1.6900 - accuracy: 0.5873\n",
            "Epoch 39/100\n",
            "720/720 [==============================] - 1s 1ms/step - loss: 1.8148 - accuracy: 0.5715\n",
            "Epoch 40/100\n",
            "720/720 [==============================] - 1s 1ms/step - loss: 1.9479 - accuracy: 0.5739\n",
            "Epoch 41/100\n",
            "720/720 [==============================] - 1s 1ms/step - loss: 2.2365 - accuracy: 0.5632\n",
            "Epoch 42/100\n",
            "720/720 [==============================] - 1s 1ms/step - loss: 1.7072 - accuracy: 0.5891\n",
            "Epoch 43/100\n",
            "720/720 [==============================] - 1s 1ms/step - loss: 1.9319 - accuracy: 0.5875\n",
            "Epoch 44/100\n",
            "720/720 [==============================] - 1s 1ms/step - loss: 1.7044 - accuracy: 0.5808\n",
            "Epoch 45/100\n",
            "720/720 [==============================] - 1s 1ms/step - loss: 1.6770 - accuracy: 0.5812\n",
            "Epoch 46/100\n",
            "720/720 [==============================] - 1s 1ms/step - loss: 1.5321 - accuracy: 0.6018\n",
            "Epoch 47/100\n",
            "720/720 [==============================] - 1s 1ms/step - loss: 1.8328 - accuracy: 0.5889\n",
            "Epoch 48/100\n",
            "720/720 [==============================] - 1s 1ms/step - loss: 1.5274 - accuracy: 0.5964\n",
            "Epoch 49/100\n",
            "720/720 [==============================] - 1s 2ms/step - loss: 1.3455 - accuracy: 0.6097\n",
            "Epoch 50/100\n",
            "720/720 [==============================] - 1s 2ms/step - loss: 1.5544 - accuracy: 0.5979\n",
            "Epoch 51/100\n",
            "720/720 [==============================] - 1s 2ms/step - loss: 1.6649 - accuracy: 0.5871\n",
            "Epoch 52/100\n",
            "720/720 [==============================] - 1s 2ms/step - loss: 1.6206 - accuracy: 0.5941\n",
            "Epoch 53/100\n",
            "720/720 [==============================] - 1s 2ms/step - loss: 1.6616 - accuracy: 0.5905\n",
            "Epoch 54/100\n",
            "720/720 [==============================] - 1s 2ms/step - loss: 1.5220 - accuracy: 0.5921\n",
            "Epoch 55/100\n",
            "720/720 [==============================] - 1s 2ms/step - loss: 1.5326 - accuracy: 0.5954\n",
            "Epoch 56/100\n",
            "720/720 [==============================] - 1s 2ms/step - loss: 1.3870 - accuracy: 0.5977\n",
            "Epoch 57/100\n",
            "720/720 [==============================] - 1s 1ms/step - loss: 1.6259 - accuracy: 0.5961\n",
            "Epoch 58/100\n",
            "720/720 [==============================] - 1s 1ms/step - loss: 1.4489 - accuracy: 0.6043\n",
            "Epoch 59/100\n",
            "720/720 [==============================] - 1s 1ms/step - loss: 1.4896 - accuracy: 0.5991\n",
            "Epoch 60/100\n",
            "720/720 [==============================] - 1s 2ms/step - loss: 1.4198 - accuracy: 0.6072\n",
            "Epoch 61/100\n",
            "720/720 [==============================] - 1s 2ms/step - loss: 1.3151 - accuracy: 0.6117\n",
            "Epoch 62/100\n",
            "720/720 [==============================] - 1s 2ms/step - loss: 1.4106 - accuracy: 0.6015\n",
            "Epoch 63/100\n",
            "720/720 [==============================] - 1s 2ms/step - loss: 1.2546 - accuracy: 0.6164\n",
            "Epoch 64/100\n",
            "720/720 [==============================] - 1s 2ms/step - loss: 1.4565 - accuracy: 0.6024\n",
            "Epoch 65/100\n",
            "720/720 [==============================] - 1s 1ms/step - loss: 1.2956 - accuracy: 0.5989\n",
            "Epoch 66/100\n",
            "720/720 [==============================] - 1s 2ms/step - loss: 1.3781 - accuracy: 0.6016\n",
            "Epoch 67/100\n",
            "720/720 [==============================] - 1s 1ms/step - loss: 1.5085 - accuracy: 0.6058\n",
            "Epoch 68/100\n",
            "720/720 [==============================] - 1s 1ms/step - loss: 1.2453 - accuracy: 0.6192\n",
            "Epoch 69/100\n",
            "720/720 [==============================] - 1s 1ms/step - loss: 1.3139 - accuracy: 0.6063\n",
            "Epoch 70/100\n",
            "720/720 [==============================] - 1s 1ms/step - loss: 1.4099 - accuracy: 0.6049\n",
            "Epoch 71/100\n",
            "720/720 [==============================] - 1s 1ms/step - loss: 1.2297 - accuracy: 0.6116\n",
            "Epoch 72/100\n",
            "720/720 [==============================] - 1s 1ms/step - loss: 1.4719 - accuracy: 0.5982\n",
            "Epoch 73/100\n",
            "720/720 [==============================] - 1s 1ms/step - loss: 1.2055 - accuracy: 0.6157\n",
            "Epoch 74/100\n",
            "720/720 [==============================] - 1s 1ms/step - loss: 1.3947 - accuracy: 0.5977\n",
            "Epoch 75/100\n",
            "720/720 [==============================] - 1s 1ms/step - loss: 1.1965 - accuracy: 0.6138\n",
            "Epoch 76/100\n",
            "720/720 [==============================] - 1s 1ms/step - loss: 1.1618 - accuracy: 0.6223\n",
            "Epoch 77/100\n",
            "720/720 [==============================] - 1s 1ms/step - loss: 1.1336 - accuracy: 0.6203\n",
            "Epoch 78/100\n",
            "720/720 [==============================] - 1s 1ms/step - loss: 1.1965 - accuracy: 0.6205\n",
            "Epoch 79/100\n",
            "720/720 [==============================] - 1s 1ms/step - loss: 1.1092 - accuracy: 0.6234\n",
            "Epoch 80/100\n",
            "720/720 [==============================] - 1s 1ms/step - loss: 1.1946 - accuracy: 0.6177\n",
            "Epoch 81/100\n",
            "720/720 [==============================] - 1s 1ms/step - loss: 1.3107 - accuracy: 0.6180\n",
            "Epoch 82/100\n",
            "720/720 [==============================] - 1s 1ms/step - loss: 1.1259 - accuracy: 0.6197\n",
            "Epoch 83/100\n",
            "720/720 [==============================] - 1s 1ms/step - loss: 1.0634 - accuracy: 0.6268\n",
            "Epoch 84/100\n",
            "720/720 [==============================] - 1s 1ms/step - loss: 1.1079 - accuracy: 0.6175\n",
            "Epoch 85/100\n",
            "720/720 [==============================] - 1s 1ms/step - loss: 1.1883 - accuracy: 0.6204\n",
            "Epoch 86/100\n",
            "720/720 [==============================] - 1s 1ms/step - loss: 1.0503 - accuracy: 0.6282\n",
            "Epoch 87/100\n",
            "720/720 [==============================] - 1s 1ms/step - loss: 1.0526 - accuracy: 0.6255\n",
            "Epoch 88/100\n",
            "720/720 [==============================] - 1s 1ms/step - loss: 1.0231 - accuracy: 0.6297\n",
            "Epoch 89/100\n",
            "720/720 [==============================] - 1s 1ms/step - loss: 1.0288 - accuracy: 0.6269\n",
            "Epoch 90/100\n",
            "720/720 [==============================] - 1s 1ms/step - loss: 0.9743 - accuracy: 0.6375\n",
            "Epoch 91/100\n",
            "720/720 [==============================] - 1s 1ms/step - loss: 0.9931 - accuracy: 0.6412\n",
            "Epoch 92/100\n",
            "720/720 [==============================] - 1s 1ms/step - loss: 1.0299 - accuracy: 0.6290\n",
            "Epoch 93/100\n",
            "720/720 [==============================] - 1s 1ms/step - loss: 1.0710 - accuracy: 0.6171\n",
            "Epoch 94/100\n",
            "720/720 [==============================] - 1s 1ms/step - loss: 1.0071 - accuracy: 0.6333\n",
            "Epoch 95/100\n",
            "720/720 [==============================] - 1s 1ms/step - loss: 0.9969 - accuracy: 0.6416\n",
            "Epoch 96/100\n",
            "720/720 [==============================] - 1s 1ms/step - loss: 1.0899 - accuracy: 0.6181\n",
            "Epoch 97/100\n",
            "720/720 [==============================] - 1s 1ms/step - loss: 0.9316 - accuracy: 0.6413\n",
            "Epoch 98/100\n",
            "720/720 [==============================] - 1s 1ms/step - loss: 0.9924 - accuracy: 0.6290\n",
            "Epoch 99/100\n",
            "720/720 [==============================] - 1s 1ms/step - loss: 0.9520 - accuracy: 0.6393\n",
            "Epoch 100/100\n",
            "720/720 [==============================] - 1s 1ms/step - loss: 0.9496 - accuracy: 0.6349\n"
          ],
          "name": "stdout"
        },
        {
          "output_type": "execute_result",
          "data": {
            "text/plain": [
              "<tensorflow.python.keras.callbacks.History at 0x7fd6fde3d518>"
            ]
          },
          "metadata": {
            "tags": []
          },
          "execution_count": 304
        }
      ]
    },
    {
      "cell_type": "markdown",
      "metadata": {
        "id": "QZAHSChQ2F4C"
      },
      "source": [
        "Feature scaling, for numerical variables\r\n"
      ]
    },
    {
      "cell_type": "code",
      "metadata": {
        "id": "vYEQ5X7O2NRL"
      },
      "source": [
        "data4 = data3 "
      ],
      "execution_count": null,
      "outputs": []
    },
    {
      "cell_type": "code",
      "metadata": {
        "colab": {
          "base_uri": "https://localhost:8080/"
        },
        "id": "EG8K0XKX2Tuq",
        "outputId": "f8408344-8c15-4cf0-dab2-f4e51890d1e5"
      },
      "source": [
        "data4.dtypes"
      ],
      "execution_count": null,
      "outputs": [
        {
          "output_type": "execute_result",
          "data": {
            "text/plain": [
              "index                     int64\n",
              "code_module_x              int8\n",
              "code_presentation_x        int8\n",
              "gender                     int8\n",
              "region                     int8\n",
              "highest_education          int8\n",
              "imd_band                   int8\n",
              "age_band                   int8\n",
              "num_of_prev_attempts       int8\n",
              "studied_credits           int64\n",
              "disability                 int8\n",
              "final_result               int8\n",
              "date_submitted          float64\n",
              "is_banked                  int8\n",
              "score                   float64\n",
              "code_module_y              int8\n",
              "code_presentation_y        int8\n",
              "date_registration       float64\n",
              "date_unregistration     float64\n",
              "dtype: object"
            ]
          },
          "metadata": {
            "tags": []
          },
          "execution_count": 306
        }
      ]
    },
    {
      "cell_type": "code",
      "metadata": {
        "colab": {
          "base_uri": "https://localhost:8080/"
        },
        "id": "OvvuihTih94O",
        "outputId": "1bab7f9f-6547-4a4f-9e85-7a0b36f0c0af"
      },
      "source": [
        "import joblib\r\n",
        "\r\n",
        "\r\n",
        "joblib.dump(xg_boost,'xg_boost_pss.pkl',compress=0)\r\n",
        "joblib.dump(naive,'naive_pss.pkl',compress=0)\r\n",
        "joblib.dump(lg_boost,'lg_boost_pss.pkl',compress=0)\r\n",
        "joblib.dump(knn_clf,'knn_clf_pss.pkl',compress=0)\r\n",
        "joblib.dump(cat_boost,'cat_boost_pss.pkl',compress=0)\r\n",
        "#joblib.dump(ann,'ann_pss.pkl',compress=0) # TypeError: can't pickle weakref objects\r\n",
        "joblib.dump(dec_tree,'dec_tree_pss,pkl',compress=0)\r\n"
      ],
      "execution_count": null,
      "outputs": [
        {
          "output_type": "execute_result",
          "data": {
            "text/plain": [
              "['dec_tree_pss,pkl']"
            ]
          },
          "metadata": {
            "tags": []
          },
          "execution_count": 307
        }
      ]
    }
  ]
}